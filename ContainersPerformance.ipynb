{
 "cells": [
  {
   "cell_type": "markdown",
   "metadata": {
    "collapsed": true
   },
   "source": [
    "# Assessment of Microservice Architecture Deployment Alternatives by Automated Performance Testing"
   ]
  },
  {
   "cell_type": "markdown",
   "metadata": {},
   "source": [
    "Read Data from Fanban: configuration, mean vector, SD vector,  mix"
   ]
  },
  {
   "cell_type": "code",
   "execution_count": 1,
   "metadata": {},
   "outputs": [],
   "source": [
    "dataFile<-read.csv(\"FanbanData.csv\", header= TRUE,sep=\",\")"
   ]
  },
  {
   "cell_type": "markdown",
   "metadata": {},
   "source": [
    "Read operational profile  data (e.g., from NetFlix). Change / remove scale factor if needed"
   ]
  },
  {
   "cell_type": "code",
   "execution_count": 2,
   "metadata": {},
   "outputs": [],
   "source": [
    "inputFile<-read.csv(\"OperationalProfileData.csv\", header= TRUE,sep=\",\")\n",
    "usersLoad<-inputFile[,1]\n",
    "accessCount<-inputFile[,2]\n",
    "scaleFactor<-2.5\n",
    "usersLoadScaled<-floor(scaleFactor*usersLoad)\n",
    "accessFrequency<-accessCount/sum(accessCount)\n",
    "#print(inputFile)"
   ]
  },
  {
   "cell_type": "markdown",
   "metadata": {},
   "source": [
    "Sum up frequency every 50 users"
   ]
  },
  {
   "cell_type": "code",
   "execution_count": 3,
   "metadata": {},
   "outputs": [],
   "source": [
    "byFifty<-which(usersLoadScaled %% 50 == 0)\n",
    "binProb<-c()\n",
    "for(i in 1:length(byFifty)){\n",
    "\tif(i==1){\n",
    "\t\tbinProb[i]<-sum(accessFrequency[1:byFifty[i]])\n",
    "\t}else{\n",
    "\t\tbinProb[i]<-sum(accessFrequency[(byFifty[i-1]+1):byFifty[i]])\n",
    "\t}\n",
    "}"
   ]
  },
  {
   "cell_type": "markdown",
   "metadata": {},
   "source": [
    "Extract settings of resources: ID, Users, Memory, CPU, Carts Replicas"
   ]
  },
  {
   "cell_type": "code",
   "execution_count": 4,
   "metadata": {},
   "outputs": [],
   "source": [
    "mySettings<-as.data.frame(matrix(nrow=nrow(dataFile)%/% 3, ncol=5))\n",
    "for(i in 0:((nrow(dataFile)%/% 3)-1)){\n",
    "    mySettings[i+1,1:5]<-dataFile[1+3*i,1:5]\n",
    "}\n",
    "colnames(mySettings)<-colnames(dataFile[,1:5])\n",
    "noMicroServices<-ncol(dataFile)-6\n",
    "#print(mySettings)"
   ]
  },
  {
   "cell_type": "markdown",
   "metadata": {},
   "source": [
    "Process time data in seconds for benchmark workload situation:number of users =2; "
   ]
  },
  {
   "cell_type": "code",
   "execution_count": 5,
   "metadata": {},
   "outputs": [],
   "source": [
    "avgVectorB<-data.frame(c(mySettings[1,],dataFile[1,7:(6+noMicroServices)]))\n",
    "SDVectorB<-data.frame(c(mySettings[1,],dataFile[2,7:(6+noMicroServices)]))\n",
    "threshold<-data.frame(c(mySettings[1,],avgVectorB[1,6:(5+noMicroServices)]+3*SDVectorB[1,6:(5+noMicroServices)]))\n",
    "mixB<-data.frame(c(mySettings[1,],dataFile[3,7:(6+noMicroServices)]))"
   ]
  },
  {
   "cell_type": "markdown",
   "metadata": {},
   "source": [
    "Process time data in seconds per workload situation \\lambda"
   ]
  },
  {
   "cell_type": "code",
   "execution_count": 6,
   "metadata": {},
   "outputs": [],
   "source": [
    "avgVector<-as.data.frame(matrix(nrow=nrow(mySettings)-1, ncol=ncol(dataFile)-1))\n",
    "for(i in 1:(nrow(mySettings)-1)){\n",
    "\tavgVector[i,]<-data.frame(c(mySettings[i+1,],dataFile[1+3*i,7:(6+noMicroServices)]))\n",
    "}\n",
    "colnames(avgVectorB)<-c(colnames(dataFile[-6]))\n",
    "SDVector<-as.data.frame(matrix(nrow=nrow(mySettings)-1, ncol=ncol(dataFile)-1))\n",
    "for(i in 1:(nrow(mySettings)-1)){\n",
    "\tSDVector[i,]<-data.frame(c(mySettings[i+1,],dataFile[2+3*i,7:(6+noMicroServices)]))\n",
    "}\n",
    "colnames(SDVectorB)<-c(colnames(dataFile[-6]))\n",
    "\n",
    "mixTemp<-as.data.frame(matrix(nrow=nrow(mySettings)-1, ncol=ncol(dataFile)-1))\n",
    "for(i in 1:(nrow(mySettings)-1)){\n",
    "\tmixTemp[i,]<-data.frame(c(mySettings[i+1,],dataFile[3+3*i,7:(6+noMicroServices)]))\n",
    "}\n",
    "colnames(mixTemp)<-c(colnames(dataFile[-6]))\n",
    "#print(mySettings)"
   ]
  },
  {
   "cell_type": "markdown",
   "metadata": {},
   "source": [
    "Check pass criterion and compute relativeMass"
   ]
  },
  {
   "cell_type": "code",
   "execution_count": 7,
   "metadata": {},
   "outputs": [],
   "source": [
    "passCriteria<-as.data.frame(matrix(nrow=nrow(mySettings)-1, ncol=ncol(dataFile)-1))\n",
    "for(i in 1:(nrow(mySettings)-1)){\n",
    "\tpassCriteria[i,]<-data.frame(c(mySettings[i+1,],avgVector[i,6:(5+noMicroServices)]))\n",
    "}\n",
    "relativeMass<-c()\n",
    "colnames(passCriteria)<-c(colnames(dataFile[-6]))\n",
    "mix<-as.data.frame(matrix(nrow=nrow(mySettings)-1, ncol=ncol(dataFile)-1))\n",
    "for(j in 1:nrow(passCriteria)){\n",
    "\tmix[j,]<-mixTemp[j,]\n",
    "\tfor(i in 6:(5+noMicroServices)){\n",
    "\t\tif(passCriteria[j,i]>threshold[i]) \n",
    "\t\t\tmix[j,i]<-0\n",
    "\t}\n",
    "\trelativeMass[j]<-sum(mix[j,6:(5+noMicroServices)])\n",
    "}"
   ]
  },
  {
   "cell_type": "markdown",
   "metadata": {},
   "source": [
    "Define a matrix of state frequencies every fifty user"
   ]
  },
  {
   "cell_type": "code",
   "execution_count": 8,
   "metadata": {},
   "outputs": [],
   "source": [
    "aggregatedValues<-matrix(c(usersLoadScaled[byFifty], binProb), ncol=2,nrow=6, dimnames=list(c(1,2,3,4,5,6), c(\"Users\", \"Aggregated Mass\")))"
   ]
  },
  {
   "cell_type": "markdown",
   "metadata": {},
   "source": [
    "Compute absoluteRelativeMass"
   ]
  },
  {
   "cell_type": "code",
   "execution_count": 9,
   "metadata": {},
   "outputs": [],
   "source": [
    "finalSettings<-mySettings\n",
    "relativeMass<-c(0, relativeMass)\n",
    "finalSettings$relativeMass<-relativeMass\n",
    "absoluteRelativeMass<-c()\n",
    "for(j in 1:nrow(finalSettings)){\t\n",
    "\tabsoluteRelativeMass[j]<-finalSettings[j,\"relativeMass\"]*aggregatedValues[match(finalSettings[j,\"Users\"], aggregatedValues[,1]),2]\n",
    "}\n",
    "absoluteRelativeMass[1]<-0\n",
    "finalSettings$absoluteRelativeMass<-absoluteRelativeMass"
   ]
  },
  {
   "cell_type": "markdown",
   "metadata": {},
   "source": [
    "Create the datasets for each plot and plot the datasets as in Fig. 3, a)"
   ]
  },
  {
   "cell_type": "code",
   "execution_count": 10,
   "metadata": {},
   "outputs": [],
   "source": [
    "mySettingsUnique<-unique(mySettings[3:5])\n",
    "set<-list()\n",
    "ordSet<-list()\n",
    "for(i in 1:nrow(mySettingsUnique)){\n",
    "\tset[[i]]<-finalSettings[which(finalSettings[,3] == mySettingsUnique[i,1]&finalSettings[,4] == mySettingsUnique[i,2]&finalSettings[,5] == mySettingsUnique[i,3]),]\n",
    "    ordSet[[i]]<-set[[i]][,c(2,7)][order(set[[i]][,c(2,7)][,1]),]\n",
    "}\n",
    "\n",
    "#if(match(mySettingsUnique[2,1],finalSettings[,3])& match(mySettingsUnique[2,2],finalSettings[,4])& match(mySettingsUnique[2,3],finalSettings[,5])){\n",
    "#\tmatch(mySettingsUnique[3,],finalSettings[,3])\n",
    "#}\n",
    "#print(mySettingsUnique)\n",
    "#print(finalSettings)"
   ]
  },
  {
   "cell_type": "markdown",
   "metadata": {},
   "source": [
    "Plot curves"
   ]
  },
  {
   "cell_type": "code",
   "execution_count": 11,
   "metadata": {},
   "outputs": [
    {
     "data": {
      "image/jpeg": "[encoded data removed]",
      "image/png": "",
      "image/svg+xml": [
       "<?xml version=\"1.0\" encoding=\"UTF-8\"?>\n",
       "<svg xmlns=\"http://www.w3.org/2000/svg\" xmlns:xlink=\"http://www.w3.org/1999/xlink\" width=\"288pt\" height=\"216pt\" viewBox=\"0 0 288 216\" version=\"1.1\">\n",
       "<defs>\n",
       "<g>\n",
       "<symbol overflow=\"visible\" id=\"glyph0-0\">\n",
       "<path style=\"stroke:none;\" d=\"\"/>\n",
       "</symbol>\n",
       "<symbol overflow=\"visible\" id=\"glyph0-1\">\n",
       "<path style=\"stroke:none;\" d=\"M 6.53125 -3.0625 C 6.53125 -4.8125 5.25 -6.09375 3.546875 -6.09375 C 2.921875 -6.09375 2.328125 -5.890625 2.09375 -5.71875 L 2.359375 -7.59375 L 6.078125 -7.59375 L 6.078125 -8.9375 L 1.25 -8.9375 L 0.546875 -4.03125 L 1.78125 -4.03125 C 2.328125 -4.6875 2.65625 -4.859375 3.34375 -4.859375 C 4.53125 -4.859375 5.15625 -4.21875 5.15625 -2.90625 C 5.15625 -1.640625 4.546875 -1.046875 3.34375 -1.046875 C 2.390625 -1.046875 1.921875 -1.40625 1.625 -2.53125 L 0.28125 -2.53125 C 0.65625 -0.640625 1.796875 0.1875 3.375 0.1875 C 5.15625 0.1875 6.53125 -1.1875 6.53125 -3.0625 Z M 6.53125 -3.0625 \"/>\n",
       "</symbol>\n",
       "<symbol overflow=\"visible\" id=\"glyph0-2\">\n",
       "<path style=\"stroke:none;\" d=\"M 6.46875 -4.390625 C 6.46875 -7.46875 5.359375 -9.125 3.4375 -9.125 C 1.53125 -9.125 0.40625 -7.4375 0.40625 -4.46875 C 0.40625 -1.46875 1.53125 0.1875 3.4375 0.1875 C 5.3125 0.1875 6.46875 -1.46875 6.46875 -4.390625 Z M 5.078125 -4.484375 C 5.078125 -1.96875 4.640625 -0.984375 3.40625 -0.984375 C 2.25 -0.984375 1.78125 -2.03125 1.78125 -4.453125 C 1.78125 -6.875 2.25 -7.890625 3.4375 -7.890625 C 4.625 -7.890625 5.078125 -6.859375 5.078125 -4.484375 Z M 5.078125 -4.484375 \"/>\n",
       "</symbol>\n",
       "<symbol overflow=\"visible\" id=\"glyph0-3\">\n",
       "<path style=\"stroke:none;\" d=\"M 4.46875 -0.125 L 4.46875 -9.125 L 3.515625 -9.125 C 3.09375 -7.625 2.96875 -7.578125 1.140625 -7.34375 L 1.140625 -6.3125 L 3.09375 -6.3125 L 3.09375 0 L 4.46875 0 Z M 4.46875 -0.125 \"/>\n",
       "</symbol>\n",
       "<symbol overflow=\"visible\" id=\"glyph0-4\">\n",
       "<path style=\"stroke:none;\" d=\"M 6.515625 -6.390625 C 6.515625 -7.890625 5.21875 -9.125 3.546875 -9.125 C 1.734375 -9.125 0.546875 -8.0625 0.484375 -5.78125 L 1.84375 -5.78125 C 1.9375 -7.40625 2.421875 -7.90625 3.515625 -7.90625 C 4.515625 -7.90625 5.125 -7.3125 5.125 -6.359375 C 5.125 -5.65625 4.75 -5.15625 3.96875 -4.703125 L 2.8125 -4.046875 C 0.96875 -3 0.390625 -2.078125 0.28125 0 L 6.453125 0 L 6.453125 -1.34375 L 1.8125 -1.34375 C 1.90625 -1.9375 2.265625 -2.3125 3.34375 -2.953125 L 4.59375 -3.625 C 5.84375 -4.28125 6.515625 -5.296875 6.515625 -6.390625 Z M 6.515625 -6.390625 \"/>\n",
       "</symbol>\n",
       "<symbol overflow=\"visible\" id=\"glyph0-5\">\n",
       "<path style=\"stroke:none;\" d=\"M 6.453125 -2.703125 C 6.453125 -3.78125 5.890625 -4.53125 4.828125 -4.90625 L 4.828125 -4.640625 C 5.65625 -4.96875 6.1875 -5.65625 6.1875 -6.546875 C 6.1875 -8.078125 5.046875 -9.125 3.359375 -9.125 C 1.578125 -9.125 0.484375 -8.015625 0.453125 -6 L 1.8125 -6 C 1.84375 -7.4375 2.25 -7.90625 3.375 -7.90625 C 4.34375 -7.90625 4.796875 -7.453125 4.796875 -6.515625 C 4.796875 -5.5625 4.53125 -5.3125 2.625 -5.3125 L 2.625 -4.125 L 3.359375 -4.125 C 4.578125 -4.125 5.0625 -3.671875 5.0625 -2.6875 C 5.0625 -1.578125 4.515625 -1.046875 3.359375 -1.046875 C 2.15625 -1.046875 1.703125 -1.515625 1.609375 -2.9375 L 0.25 -2.9375 C 0.40625 -0.828125 1.515625 0.1875 3.328125 0.1875 C 5.15625 0.1875 6.453125 -1.03125 6.453125 -2.703125 Z M 6.453125 -2.703125 \"/>\n",
       "</symbol>\n",
       "<symbol overflow=\"visible\" id=\"glyph0-6\">\n",
       "<path style=\"stroke:none;\" d=\"M 8.1875 -2.90625 L 8.1875 -9.375 L 6.765625 -9.375 L 6.765625 -2.90625 C 6.765625 -1.671875 6.015625 -1.0625 4.546875 -1.0625 C 3.1875 -1.0625 2.34375 -1.578125 2.34375 -2.90625 L 2.34375 -9.375 L 0.921875 -9.375 L 0.921875 -2.90625 C 0.921875 -1.046875 2.390625 0.21875 4.546875 0.21875 C 6.6875 0.21875 8.1875 -1.078125 8.1875 -2.90625 Z M 8.1875 -2.90625 \"/>\n",
       "</symbol>\n",
       "<symbol overflow=\"visible\" id=\"glyph0-7\">\n",
       "<path style=\"stroke:none;\" d=\"M 5.859375 -1.96875 C 5.859375 -2.9375 5.1875 -3.5625 3.890625 -3.875 L 2.890625 -4.109375 C 2.03125 -4.3125 1.796875 -4.453125 1.796875 -4.90625 C 1.796875 -5.515625 2.21875 -5.78125 3.0625 -5.78125 C 3.90625 -5.78125 4.21875 -5.53125 4.234375 -4.71875 L 5.59375 -4.71875 C 5.59375 -6.140625 4.609375 -7 3.09375 -7 C 1.578125 -7 0.453125 -6.078125 0.453125 -4.859375 C 0.453125 -3.84375 1.109375 -3.21875 2.65625 -2.84375 L 3.640625 -2.609375 C 4.359375 -2.4375 4.515625 -2.34375 4.515625 -1.875 C 4.515625 -1.265625 4.03125 -1.03125 3.125 -1.03125 C 2.1875 -1.03125 1.78125 -1.125 1.640625 -2.265625 L 0.28125 -2.265625 C 0.34375 -0.609375 1.328125 0.1875 3.03125 0.1875 C 4.6875 0.1875 5.859375 -0.703125 5.859375 -1.96875 Z M 5.859375 -1.96875 \"/>\n",
       "</symbol>\n",
       "<symbol overflow=\"visible\" id=\"glyph0-8\">\n",
       "<path style=\"stroke:none;\" d=\"M 6.53125 -3.09375 C 6.53125 -4.046875 6.46875 -4.65625 6.28125 -5.140625 C 5.84375 -6.21875 4.71875 -7 3.5 -7 C 1.671875 -7 0.359375 -5.515625 0.359375 -3.359375 C 0.359375 -1.21875 1.640625 0.1875 3.46875 0.1875 C 4.96875 0.1875 6.140625 -0.78125 6.421875 -2.25 L 5.125 -2.25 C 4.796875 -1.25 4.34375 -1.03125 3.515625 -1.03125 C 2.421875 -1.03125 1.734375 -1.59375 1.71875 -2.96875 L 6.53125 -2.96875 Z M 5.390625 -3.9375 C 5.390625 -3.9375 5.203125 -4.0625 5.21875 -4.09375 L 1.75 -4.09375 C 1.828125 -5.109375 2.4375 -5.78125 3.484375 -5.78125 C 4.515625 -5.78125 5.15625 -5.046875 5.15625 -4.03125 Z M 5.390625 -3.9375 \"/>\n",
       "</symbol>\n",
       "<symbol overflow=\"visible\" id=\"glyph0-9\">\n",
       "<path style=\"stroke:none;\" d=\"M 4.140625 -5.765625 L 4.140625 -6.9375 C 3.84375 -6.984375 3.75 -7 3.609375 -7 C 2.9375 -7 2.328125 -6.546875 1.71875 -5.578125 L 1.953125 -5.484375 L 1.953125 -6.8125 L 0.734375 -6.8125 L 0.734375 0 L 2.03125 0 L 2.03125 -3.53125 C 2.03125 -5 2.40625 -5.609375 4.140625 -5.640625 Z M 4.140625 -5.765625 \"/>\n",
       "</symbol>\n",
       "<symbol overflow=\"visible\" id=\"glyph1-0\">\n",
       "<path style=\"stroke:none;\" d=\"\"/>\n",
       "</symbol>\n",
       "<symbol overflow=\"visible\" id=\"glyph1-1\">\n",
       "<path style=\"stroke:none;\" d=\"M -4.390625 -6.46875 C -7.46875 -6.46875 -9.125 -5.359375 -9.125 -3.4375 C -9.125 -1.53125 -7.4375 -0.40625 -4.46875 -0.40625 C -1.46875 -0.40625 0.1875 -1.53125 0.1875 -3.4375 C 0.1875 -5.3125 -1.46875 -6.46875 -4.390625 -6.46875 Z M -4.484375 -5.078125 C -1.96875 -5.078125 -0.984375 -4.640625 -0.984375 -3.40625 C -0.984375 -2.25 -2.03125 -1.78125 -4.453125 -1.78125 C -6.875 -1.78125 -7.890625 -2.25 -7.890625 -3.4375 C -7.890625 -4.625 -6.859375 -5.078125 -4.484375 -5.078125 Z M -4.484375 -5.078125 \"/>\n",
       "</symbol>\n",
       "<symbol overflow=\"visible\" id=\"glyph1-2\">\n",
       "<path style=\"stroke:none;\" d=\"M -0.125 -2.515625 L -1.5625 -2.515625 L -1.5625 -0.953125 L 0 -0.953125 L 0 -2.515625 Z M -0.125 -2.515625 \"/>\n",
       "</symbol>\n",
       "<symbol overflow=\"visible\" id=\"glyph1-3\">\n",
       "<path style=\"stroke:none;\" d=\"M -0.125 -4.46875 L -9.125 -4.46875 L -9.125 -3.515625 C -7.625 -3.09375 -7.578125 -2.96875 -7.34375 -1.140625 L -6.3125 -1.140625 L -6.3125 -3.09375 L 0 -3.09375 L 0 -4.46875 Z M -0.125 -4.46875 \"/>\n",
       "</symbol>\n",
       "<symbol overflow=\"visible\" id=\"glyph1-4\">\n",
       "<path style=\"stroke:none;\" d=\"M -3.0625 -6.53125 C -4.8125 -6.53125 -6.09375 -5.25 -6.09375 -3.546875 C -6.09375 -2.921875 -5.890625 -2.328125 -5.71875 -2.09375 L -7.59375 -2.359375 L -7.59375 -6.078125 L -8.9375 -6.078125 L -8.9375 -1.25 L -4.03125 -0.546875 L -4.03125 -1.78125 C -4.6875 -2.328125 -4.859375 -2.65625 -4.859375 -3.34375 C -4.859375 -4.53125 -4.21875 -5.15625 -2.90625 -5.15625 C -1.640625 -5.15625 -1.046875 -4.546875 -1.046875 -3.34375 C -1.046875 -2.390625 -1.40625 -1.921875 -2.53125 -1.625 L -2.53125 -0.28125 C -0.640625 -0.65625 0.1875 -1.796875 0.1875 -3.375 C 0.1875 -5.15625 -1.1875 -6.53125 -3.0625 -6.53125 Z M -3.0625 -6.53125 \"/>\n",
       "</symbol>\n",
       "<symbol overflow=\"visible\" id=\"glyph1-5\">\n",
       "<path style=\"stroke:none;\" d=\"M -2.703125 -6.453125 C -3.78125 -6.453125 -4.53125 -5.890625 -4.90625 -4.828125 L -4.640625 -4.828125 C -4.96875 -5.65625 -5.65625 -6.1875 -6.546875 -6.1875 C -8.078125 -6.1875 -9.125 -5.046875 -9.125 -3.359375 C -9.125 -1.578125 -8.015625 -0.484375 -6 -0.453125 L -6 -1.8125 C -7.4375 -1.84375 -7.90625 -2.25 -7.90625 -3.375 C -7.90625 -4.34375 -7.453125 -4.796875 -6.515625 -4.796875 C -5.5625 -4.796875 -5.3125 -4.53125 -5.3125 -2.625 L -4.125 -2.625 L -4.125 -3.359375 C -4.125 -4.578125 -3.671875 -5.0625 -2.6875 -5.0625 C -1.578125 -5.0625 -1.046875 -4.515625 -1.046875 -3.359375 C -1.046875 -2.15625 -1.515625 -1.703125 -2.9375 -1.609375 L -2.9375 -0.25 C -0.828125 -0.40625 0.1875 -1.515625 0.1875 -3.328125 C 0.1875 -5.15625 -1.03125 -6.453125 -2.703125 -6.453125 Z M -2.703125 -6.453125 \"/>\n",
       "</symbol>\n",
       "<symbol overflow=\"visible\" id=\"glyph1-6\">\n",
       "<path style=\"stroke:none;\" d=\"M -0.125 -8.28125 L -9.375 -5.03125 L -9.375 -3.375 L 0 -0.03125 L 0 -1.53125 L -2.734375 -2.484375 L -2.734375 -5.84375 L 0 -6.78125 L 0 -8.34375 Z M -3.96875 -5.59375 L -3.96875 -2.875 L -7.984375 -4.328125 L -7.984375 -4.0625 L -3.96875 -5.40625 Z M -3.96875 -5.59375 \"/>\n",
       "</symbol>\n",
       "<symbol overflow=\"visible\" id=\"glyph1-7\">\n",
       "<path style=\"stroke:none;\" d=\"M -1.203125 -6.234375 L -6.8125 -6.234375 L -6.8125 -5.015625 L -5.71875 -5.015625 L -5.8125 -5.234375 C -6.59375 -4.71875 -7 -3.984375 -7 -3.15625 C -7 -1.484375 -5.46875 -0.21875 -3.34375 -0.21875 C -1.28125 -0.21875 0.1875 -1.53125 0.1875 -3.0625 C 0.1875 -3.890625 -0.203125 -4.546875 -1.03125 -5.234375 L -1.109375 -5.015625 L -0.671875 -5.015625 C 1.0625 -5.015625 1.59375 -4.4375 1.59375 -3.21875 C 1.59375 -2.40625 1.421875 -1.890625 0.484375 -1.734375 L 0.484375 -0.421875 C 1.859375 -0.546875 2.71875 -1.65625 2.71875 -3.1875 C 2.71875 -5.234375 1.6875 -6.234375 -1.203125 -6.234375 Z M -3.359375 -4.90625 C -1.796875 -4.90625 -1.03125 -4.375 -1.03125 -3.28125 C -1.03125 -2.140625 -1.8125 -1.578125 -3.40625 -1.578125 C -4.96875 -1.578125 -5.78125 -2.15625 -5.78125 -3.265625 C -5.78125 -4.390625 -4.953125 -4.90625 -3.359375 -4.90625 Z M -3.359375 -4.90625 \"/>\n",
       "</symbol>\n",
       "<symbol overflow=\"visible\" id=\"glyph1-8\">\n",
       "<path style=\"stroke:none;\" d=\"M -5.765625 -4.140625 L -6.9375 -4.140625 C -6.984375 -3.84375 -7 -3.75 -7 -3.609375 C -7 -2.9375 -6.546875 -2.328125 -5.578125 -1.71875 L -5.484375 -1.953125 L -6.8125 -1.953125 L -6.8125 -0.734375 L 0 -0.734375 L 0 -2.03125 L -3.53125 -2.03125 C -5 -2.03125 -5.609375 -2.40625 -5.640625 -4.140625 Z M -5.765625 -4.140625 \"/>\n",
       "</symbol>\n",
       "<symbol overflow=\"visible\" id=\"glyph1-9\">\n",
       "<path style=\"stroke:none;\" d=\"M -3.09375 -6.53125 C -4.046875 -6.53125 -4.65625 -6.46875 -5.140625 -6.28125 C -6.21875 -5.84375 -7 -4.71875 -7 -3.5 C -7 -1.671875 -5.515625 -0.359375 -3.359375 -0.359375 C -1.21875 -0.359375 0.1875 -1.640625 0.1875 -3.46875 C 0.1875 -4.96875 -0.78125 -6.140625 -2.25 -6.421875 L -2.25 -5.125 C -1.25 -4.796875 -1.03125 -4.34375 -1.03125 -3.515625 C -1.03125 -2.421875 -1.59375 -1.734375 -2.96875 -1.71875 L -2.96875 -6.53125 Z M -3.9375 -5.390625 C -3.9375 -5.390625 -4.0625 -5.203125 -4.09375 -5.21875 L -4.09375 -1.75 C -5.109375 -1.828125 -5.78125 -2.4375 -5.78125 -3.484375 C -5.78125 -4.515625 -5.046875 -5.15625 -4.03125 -5.15625 Z M -3.9375 -5.390625 \"/>\n",
       "</symbol>\n",
       "<symbol overflow=\"visible\" id=\"glyph1-10\">\n",
       "<path style=\"stroke:none;\" d=\"M -0.15625 -6.8125 L -1.09375 -6.8125 C -1.046875 -6.578125 -1.046875 -6.53125 -1.046875 -6.46875 C -1.046875 -6.09375 -1.09375 -6.03125 -1.421875 -6.03125 L -5.078125 -6.03125 C -6.234375 -6.03125 -7 -5.046875 -7 -3.4375 C -7 -1.84375 -6.25 -0.734375 -4.609375 -0.65625 L -4.609375 -1.96875 C -5.53125 -2.078125 -5.78125 -2.421875 -5.78125 -3.40625 C -5.78125 -4.34375 -5.546875 -4.71875 -4.921875 -4.71875 L -4.65625 -4.71875 C -4.21875 -4.71875 -4.15625 -4.59375 -4.0625 -3.78125 C -3.875 -2.296875 -3.828125 -2.078125 -3.65625 -1.671875 C -3.34375 -0.90625 -2.625 -0.390625 -1.828125 -0.390625 C -0.640625 -0.390625 0.1875 -1.34375 0.1875 -2.671875 C 0.1875 -3.515625 -0.203125 -4.40625 -0.640625 -4.828125 C -0.40625 -4.875 0.09375 -5.46875 0.09375 -5.96875 C 0.09375 -6.1875 0.0625 -6.34375 -0.046875 -6.8125 Z M -2.390625 -4.71875 C -1.453125 -4.71875 -0.984375 -3.90625 -0.984375 -2.90625 C -0.984375 -2.09375 -1.140625 -1.734375 -1.84375 -1.734375 C -2.53125 -1.734375 -2.71875 -2.078125 -2.875 -3.1875 C -3.03125 -4.28125 -3.078125 -4.515625 -3.171875 -4.71875 Z M -2.390625 -4.71875 \"/>\n",
       "</symbol>\n",
       "<symbol overflow=\"visible\" id=\"glyph1-11\">\n",
       "<path style=\"stroke:none;\" d=\"M -0.125 -3.296875 L -1.171875 -3.296875 C -1.09375 -3.03125 -1.09375 -2.875 -1.09375 -2.671875 C -1.09375 -2.21875 -1.078125 -2.21875 -1.53125 -2.21875 L -5.703125 -2.21875 L -5.703125 -3.296875 L -6.8125 -3.296875 L -6.8125 -2.21875 L -8.609375 -2.21875 L -8.609375 -0.921875 L -6.8125 -0.921875 L -6.8125 -0.03125 L -5.703125 -0.03125 L -5.703125 -0.921875 L -1.078125 -0.921875 C -0.40625 -0.921875 0.09375 -1.515625 0.09375 -2.328125 C 0.09375 -2.578125 0.0625 -2.828125 -0.015625 -3.296875 Z M -0.125 -3.296875 \"/>\n",
       "</symbol>\n",
       "<symbol overflow=\"visible\" id=\"glyph1-12\">\n",
       "<path style=\"stroke:none;\" d=\"M -0.125 -6.3125 L -9.375 -6.3125 L -9.375 -5.015625 L -5.84375 -5.015625 L -5.9375 -5.234375 C -6.59375 -4.796875 -7 -4.015625 -7 -3.140625 C -7 -1.4375 -5.546875 -0.1875 -3.46875 -0.1875 C -1.25 -0.1875 0.1875 -1.40625 0.1875 -3.171875 C 0.1875 -4.078125 -0.1875 -4.78125 -1 -5.34375 L -1.09375 -5.125 L 0 -5.125 L 0 -6.3125 Z M -3.375 -5.015625 C -1.859375 -5.015625 -1.046875 -4.421875 -1.046875 -3.328125 C -1.046875 -2.171875 -1.875 -1.53125 -3.40625 -1.53125 C -4.921875 -1.53125 -5.765625 -2.171875 -5.765625 -3.3125 C -5.765625 -4.4375 -4.890625 -5.015625 -3.375 -5.015625 Z M -3.375 -5.015625 \"/>\n",
       "</symbol>\n",
       "<symbol overflow=\"visible\" id=\"glyph1-13\">\n",
       "<path style=\"stroke:none;\" d=\"\"/>\n",
       "</symbol>\n",
       "<symbol overflow=\"visible\" id=\"glyph1-14\">\n",
       "<path style=\"stroke:none;\" d=\"M -0.125 -9.640625 L -9.375 -9.640625 L -9.375 -7.796875 L -1.296875 -5.109375 L -1.296875 -5.375 L -9.375 -2.625 L -9.375 -0.796875 L 0 -0.796875 L 0 -2.15625 L -7.765625 -2.15625 L -7.765625 -1.90625 L 0 -4.53125 L 0 -5.9375 L -7.765625 -8.53125 L -7.765625 -8.28125 L 0 -8.28125 L 0 -9.640625 Z M -0.125 -9.640625 \"/>\n",
       "</symbol>\n",
       "<symbol overflow=\"visible\" id=\"glyph1-15\">\n",
       "<path style=\"stroke:none;\" d=\"M -1.96875 -5.859375 C -2.9375 -5.859375 -3.5625 -5.1875 -3.875 -3.890625 L -4.109375 -2.890625 C -4.3125 -2.03125 -4.453125 -1.796875 -4.90625 -1.796875 C -5.515625 -1.796875 -5.78125 -2.21875 -5.78125 -3.0625 C -5.78125 -3.90625 -5.53125 -4.21875 -4.71875 -4.234375 L -4.71875 -5.59375 C -6.140625 -5.59375 -7 -4.609375 -7 -3.09375 C -7 -1.578125 -6.078125 -0.453125 -4.859375 -0.453125 C -3.84375 -0.453125 -3.21875 -1.109375 -2.84375 -2.65625 L -2.609375 -3.640625 C -2.4375 -4.359375 -2.34375 -4.515625 -1.875 -4.515625 C -1.265625 -4.515625 -1.03125 -4.03125 -1.03125 -3.125 C -1.03125 -2.1875 -1.125 -1.78125 -2.265625 -1.640625 L -2.265625 -0.28125 C -0.609375 -0.34375 0.1875 -1.328125 0.1875 -3.03125 C 0.1875 -4.6875 -0.703125 -5.859375 -1.96875 -5.859375 Z M -1.96875 -5.859375 \"/>\n",
       "</symbol>\n",
       "</g>\n",
       "<clipPath id=\"clip1\">\n",
       "  <path d=\"M 59.039062 138 L 252 138 L 252 141 L 59.039062 141 Z M 59.039062 138 \"/>\n",
       "</clipPath>\n",
       "</defs>\n",
       "<g id=\"surface111\">\n",
       "<rect x=\"0\" y=\"0\" width=\"288\" height=\"216\" style=\"fill:rgb(100%,100%,100%);fill-opacity:1;stroke:none;\"/>\n",
       "<path style=\"fill:none;stroke-width:1;stroke-linecap:round;stroke-linejoin:round;stroke:rgb(0%,0%,0%);stroke-opacity:1;stroke-miterlimit:10;\" d=\"M 69.601562 112.1875 C 69.601562 116.457031 63.199219 116.457031 63.199219 112.1875 C 63.199219 107.921875 69.601562 107.921875 69.601562 112.1875 \"/>\n",
       "<path style=\"fill:none;stroke-width:1;stroke-linecap:round;stroke-linejoin:round;stroke:rgb(0%,0%,0%);stroke-opacity:1;stroke-miterlimit:10;\" d=\"M 106.398438 91.730469 C 106.398438 95.996094 100 95.996094 100 91.730469 C 100 87.464844 106.398438 87.464844 106.398438 91.730469 \"/>\n",
       "<path style=\"fill:none;stroke-width:1;stroke-linecap:round;stroke-linejoin:round;stroke:rgb(0%,0%,0%);stroke-opacity:1;stroke-miterlimit:10;\" d=\"M 143.199219 82.183594 C 143.199219 86.449219 136.800781 86.449219 136.800781 82.183594 C 136.800781 77.917969 143.199219 77.917969 143.199219 82.183594 \"/>\n",
       "<path style=\"fill:none;stroke-width:1;stroke-linecap:round;stroke-linejoin:round;stroke:rgb(0%,0%,0%);stroke-opacity:1;stroke-miterlimit:10;\" d=\"M 180 82.183594 C 180 86.449219 173.601562 86.449219 173.601562 82.183594 C 173.601562 77.917969 180 77.917969 180 82.183594 \"/>\n",
       "<path style=\"fill:none;stroke-width:1;stroke-linecap:round;stroke-linejoin:round;stroke:rgb(0%,0%,0%);stroke-opacity:1;stroke-miterlimit:10;\" d=\"M 216.800781 86.957031 C 216.800781 91.222656 210.398438 91.222656 210.398438 86.957031 C 210.398438 82.691406 216.800781 82.691406 216.800781 86.957031 \"/>\n",
       "<path style=\"fill:none;stroke-width:1;stroke-linecap:round;stroke-linejoin:round;stroke:rgb(0%,0%,0%);stroke-opacity:1;stroke-miterlimit:10;\" d=\"M 253.601562 123.78125 C 253.601562 128.046875 247.199219 128.046875 247.199219 123.78125 C 247.199219 119.515625 253.601562 119.515625 253.601562 123.78125 \"/>\n",
       "<path style=\"fill:none;stroke-width:1;stroke-linecap:round;stroke-linejoin:round;stroke:rgb(0%,0%,0%);stroke-opacity:1;stroke-miterlimit:10;\" d=\"M 66.398438 142.558594 L 250.398438 142.558594 \"/>\n",
       "<path style=\"fill:none;stroke-width:1;stroke-linecap:round;stroke-linejoin:round;stroke:rgb(0%,0%,0%);stroke-opacity:1;stroke-miterlimit:10;\" d=\"M 66.398438 142.558594 L 66.398438 149.761719 \"/>\n",
       "<path style=\"fill:none;stroke-width:1;stroke-linecap:round;stroke-linejoin:round;stroke:rgb(0%,0%,0%);stroke-opacity:1;stroke-miterlimit:10;\" d=\"M 103.199219 142.558594 L 103.199219 149.761719 \"/>\n",
       "<path style=\"fill:none;stroke-width:1;stroke-linecap:round;stroke-linejoin:round;stroke:rgb(0%,0%,0%);stroke-opacity:1;stroke-miterlimit:10;\" d=\"M 140 142.558594 L 140 149.761719 \"/>\n",
       "<path style=\"fill:none;stroke-width:1;stroke-linecap:round;stroke-linejoin:round;stroke:rgb(0%,0%,0%);stroke-opacity:1;stroke-miterlimit:10;\" d=\"M 176.800781 142.558594 L 176.800781 149.761719 \"/>\n",
       "<path style=\"fill:none;stroke-width:1;stroke-linecap:round;stroke-linejoin:round;stroke:rgb(0%,0%,0%);stroke-opacity:1;stroke-miterlimit:10;\" d=\"M 213.601562 142.558594 L 213.601562 149.761719 \"/>\n",
       "<path style=\"fill:none;stroke-width:1;stroke-linecap:round;stroke-linejoin:round;stroke:rgb(0%,0%,0%);stroke-opacity:1;stroke-miterlimit:10;\" d=\"M 250.398438 142.558594 L 250.398438 149.761719 \"/>\n",
       "<g style=\"fill:rgb(0%,0%,0%);fill-opacity:1;\">\n",
       "  <use xlink:href=\"#glyph0-1\" x=\"59.449219\" y=\"169.921875\"/>\n",
       "  <use xlink:href=\"#glyph0-2\" x=\"66.399246\" y=\"169.921875\"/>\n",
       "</g>\n",
       "<g style=\"fill:rgb(0%,0%,0%);fill-opacity:1;\">\n",
       "  <use xlink:href=\"#glyph0-3\" x=\"92.773438\" y=\"169.921875\"/>\n",
       "  <use xlink:href=\"#glyph0-2\" x=\"99.723465\" y=\"169.921875\"/>\n",
       "  <use xlink:href=\"#glyph0-2\" x=\"106.673492\" y=\"169.921875\"/>\n",
       "</g>\n",
       "<g style=\"fill:rgb(0%,0%,0%);fill-opacity:1;\">\n",
       "  <use xlink:href=\"#glyph0-3\" x=\"129.574219\" y=\"169.921875\"/>\n",
       "  <use xlink:href=\"#glyph0-1\" x=\"136.524246\" y=\"169.921875\"/>\n",
       "  <use xlink:href=\"#glyph0-2\" x=\"143.474274\" y=\"169.921875\"/>\n",
       "</g>\n",
       "<g style=\"fill:rgb(0%,0%,0%);fill-opacity:1;\">\n",
       "  <use xlink:href=\"#glyph0-4\" x=\"166.375\" y=\"169.921875\"/>\n",
       "  <use xlink:href=\"#glyph0-2\" x=\"173.325027\" y=\"169.921875\"/>\n",
       "  <use xlink:href=\"#glyph0-2\" x=\"180.275055\" y=\"169.921875\"/>\n",
       "</g>\n",
       "<g style=\"fill:rgb(0%,0%,0%);fill-opacity:1;\">\n",
       "  <use xlink:href=\"#glyph0-4\" x=\"203.175781\" y=\"169.921875\"/>\n",
       "  <use xlink:href=\"#glyph0-1\" x=\"210.125809\" y=\"169.921875\"/>\n",
       "  <use xlink:href=\"#glyph0-2\" x=\"217.075836\" y=\"169.921875\"/>\n",
       "</g>\n",
       "<g style=\"fill:rgb(0%,0%,0%);fill-opacity:1;\">\n",
       "  <use xlink:href=\"#glyph0-5\" x=\"239.972656\" y=\"169.921875\"/>\n",
       "  <use xlink:href=\"#glyph0-2\" x=\"246.922684\" y=\"169.921875\"/>\n",
       "  <use xlink:href=\"#glyph0-2\" x=\"253.872711\" y=\"169.921875\"/>\n",
       "</g>\n",
       "<path style=\"fill:none;stroke-width:1;stroke-linecap:round;stroke-linejoin:round;stroke:rgb(0%,0%,0%);stroke-opacity:1;stroke-miterlimit:10;\" d=\"M 59.039062 139.464844 L 59.039062 62.132812 \"/>\n",
       "<path style=\"fill:none;stroke-width:1;stroke-linecap:round;stroke-linejoin:round;stroke:rgb(0%,0%,0%);stroke-opacity:1;stroke-miterlimit:10;\" d=\"M 59.039062 139.464844 L 51.839844 139.464844 \"/>\n",
       "<path style=\"fill:none;stroke-width:1;stroke-linecap:round;stroke-linejoin:round;stroke:rgb(0%,0%,0%);stroke-opacity:1;stroke-miterlimit:10;\" d=\"M 59.039062 126.578125 L 51.839844 126.578125 \"/>\n",
       "<path style=\"fill:none;stroke-width:1;stroke-linecap:round;stroke-linejoin:round;stroke:rgb(0%,0%,0%);stroke-opacity:1;stroke-miterlimit:10;\" d=\"M 59.039062 113.6875 L 51.839844 113.6875 \"/>\n",
       "<path style=\"fill:none;stroke-width:1;stroke-linecap:round;stroke-linejoin:round;stroke:rgb(0%,0%,0%);stroke-opacity:1;stroke-miterlimit:10;\" d=\"M 59.039062 100.800781 L 51.839844 100.800781 \"/>\n",
       "<path style=\"fill:none;stroke-width:1;stroke-linecap:round;stroke-linejoin:round;stroke:rgb(0%,0%,0%);stroke-opacity:1;stroke-miterlimit:10;\" d=\"M 59.039062 87.910156 L 51.839844 87.910156 \"/>\n",
       "<path style=\"fill:none;stroke-width:1;stroke-linecap:round;stroke-linejoin:round;stroke:rgb(0%,0%,0%);stroke-opacity:1;stroke-miterlimit:10;\" d=\"M 59.039062 75.023438 L 51.839844 75.023438 \"/>\n",
       "<path style=\"fill:none;stroke-width:1;stroke-linecap:round;stroke-linejoin:round;stroke:rgb(0%,0%,0%);stroke-opacity:1;stroke-miterlimit:10;\" d=\"M 59.039062 62.132812 L 51.839844 62.132812 \"/>\n",
       "<g style=\"fill:rgb(0%,0%,0%);fill-opacity:1;\">\n",
       "  <use xlink:href=\"#glyph1-1\" x=\"43.199219\" y=\"151.628906\"/>\n",
       "  <use xlink:href=\"#glyph1-2\" x=\"43.199219\" y=\"144.678879\"/>\n",
       "  <use xlink:href=\"#glyph1-1\" x=\"43.199219\" y=\"141.203873\"/>\n",
       "  <use xlink:href=\"#glyph1-1\" x=\"43.199219\" y=\"134.253845\"/>\n",
       "</g>\n",
       "<g style=\"fill:rgb(0%,0%,0%);fill-opacity:1;\">\n",
       "  <use xlink:href=\"#glyph1-1\" x=\"43.199219\" y=\"112.964844\"/>\n",
       "  <use xlink:href=\"#glyph1-2\" x=\"43.199219\" y=\"106.014816\"/>\n",
       "  <use xlink:href=\"#glyph1-3\" x=\"43.199219\" y=\"102.53981\"/>\n",
       "  <use xlink:href=\"#glyph1-4\" x=\"43.199219\" y=\"95.589783\"/>\n",
       "</g>\n",
       "<g style=\"fill:rgb(0%,0%,0%);fill-opacity:1;\">\n",
       "  <use xlink:href=\"#glyph1-1\" x=\"43.199219\" y=\"74.296875\"/>\n",
       "  <use xlink:href=\"#glyph1-2\" x=\"43.199219\" y=\"67.346848\"/>\n",
       "  <use xlink:href=\"#glyph1-5\" x=\"43.199219\" y=\"63.871841\"/>\n",
       "  <use xlink:href=\"#glyph1-1\" x=\"43.199219\" y=\"56.921814\"/>\n",
       "</g>\n",
       "<path style=\"fill:none;stroke-width:1;stroke-linecap:round;stroke-linejoin:round;stroke:rgb(0%,0%,0%);stroke-opacity:1;stroke-miterlimit:10;\" d=\"M 59.039062 142.558594 L 257.761719 142.558594 L 257.761719 59.039062 L 59.039062 59.039062 L 59.039062 142.558594 \"/>\n",
       "<g style=\"fill:rgb(0%,0%,0%);fill-opacity:1;\">\n",
       "  <use xlink:href=\"#glyph0-6\" x=\"142.078125\" y=\"198.71875\"/>\n",
       "  <use xlink:href=\"#glyph0-7\" x=\"151.103165\" y=\"198.71875\"/>\n",
       "  <use xlink:href=\"#glyph0-8\" x=\"157.353195\" y=\"198.71875\"/>\n",
       "  <use xlink:href=\"#glyph0-9\" x=\"164.303223\" y=\"198.71875\"/>\n",
       "  <use xlink:href=\"#glyph0-7\" x=\"168.465744\" y=\"198.71875\"/>\n",
       "</g>\n",
       "<g style=\"fill:rgb(0%,0%,0%);fill-opacity:1;\">\n",
       "  <use xlink:href=\"#glyph1-6\" x=\"14.398438\" y=\"149.78125\"/>\n",
       "  <use xlink:href=\"#glyph1-7\" x=\"14.398438\" y=\"141.443726\"/>\n",
       "  <use xlink:href=\"#glyph1-7\" x=\"14.398438\" y=\"134.493698\"/>\n",
       "  <use xlink:href=\"#glyph1-8\" x=\"14.398438\" y=\"127.543671\"/>\n",
       "  <use xlink:href=\"#glyph1-9\" x=\"14.398438\" y=\"123.381149\"/>\n",
       "  <use xlink:href=\"#glyph1-7\" x=\"14.398438\" y=\"116.431122\"/>\n",
       "  <use xlink:href=\"#glyph1-10\" x=\"14.398438\" y=\"109.481094\"/>\n",
       "  <use xlink:href=\"#glyph1-11\" x=\"14.398438\" y=\"102.531067\"/>\n",
       "  <use xlink:href=\"#glyph1-9\" x=\"14.398438\" y=\"99.056061\"/>\n",
       "  <use xlink:href=\"#glyph1-12\" x=\"14.398438\" y=\"92.106033\"/>\n",
       "  <use xlink:href=\"#glyph1-13\" x=\"14.398438\" y=\"85.156006\"/>\n",
       "  <use xlink:href=\"#glyph1-14\" x=\"14.398438\" y=\"81.681\"/>\n",
       "  <use xlink:href=\"#glyph1-10\" x=\"14.398438\" y=\"71.268463\"/>\n",
       "  <use xlink:href=\"#glyph1-15\" x=\"14.398438\" y=\"64.318436\"/>\n",
       "  <use xlink:href=\"#glyph1-15\" x=\"14.398438\" y=\"58.068405\"/>\n",
       "</g>\n",
       "<path style=\"fill-rule:nonzero;fill:rgb(67.843137%,84.705882%,90.196078%);fill-opacity:1;stroke-width:2;stroke-linecap:round;stroke-linejoin:round;stroke:rgb(0%,0%,100%);stroke-opacity:1;stroke-dasharray:4,4;stroke-miterlimit:10;\" d=\"M 66.398438 139.464844 L 66.398438 112.1875 L 103.199219 91.730469 L 140 82.183594 L 176.800781 82.183594 L 213.601562 86.957031 L 250.398438 123.78125 L 250.398438 139.464844 Z M 66.398438 139.464844 \"/>\n",
       "<g clip-path=\"url(#clip1)\" clip-rule=\"nonzero\">\n",
       "<path style=\"fill:none;stroke-width:2;stroke-linecap:round;stroke-linejoin:round;stroke:rgb(0%,0%,0%);stroke-opacity:1;stroke-dasharray:4,4;stroke-miterlimit:10;\" d=\"M 66.398438 139.464844 L 31.070312 139.464844 L 250.398438 139.464844 Z M 66.398438 139.464844 \"/>\n",
       "</g>\n",
       "<path style=\"fill:none;stroke-width:1;stroke-linecap:round;stroke-linejoin:round;stroke:rgb(0%,0%,100%);stroke-opacity:1;stroke-miterlimit:10;\" d=\"M 66.398438 112.1875 L 103.199219 103.753906 L 140 96.539062 L 176.800781 137.996094 L 213.601562 100.074219 L 250.398438 127.71875 \"/>\n",
       "<path style=\"fill-rule:nonzero;fill:rgb(50.196078%,40%,10.196078%);fill-opacity:0.301961;stroke-width:2;stroke-linecap:round;stroke-linejoin:round;stroke:rgb(0%,0%,0%);stroke-opacity:1;stroke-dasharray:4,4;stroke-miterlimit:10;\" d=\"M 66.398438 139.464844 L 66.398438 112.1875 L 103.199219 103.753906 L 140 96.539062 L 176.800781 137.996094 L 213.601562 100.074219 L 250.398438 127.71875 L 250.398438 139.464844 Z M 66.398438 139.464844 \"/>\n",
       "<path style=\"fill:none;stroke-width:1;stroke-linecap:round;stroke-linejoin:round;stroke:rgb(0%,0%,100%);stroke-opacity:1;stroke-miterlimit:10;\" d=\"M 66.398438 112.1875 L 103.199219 91.734375 L 140 109.832031 L 176.800781 125.066406 L 213.601562 126.230469 L 250.398438 139.058594 \"/>\n",
       "<path style=\"fill-rule:nonzero;fill:rgb(50.196078%,40%,10.196078%);fill-opacity:0.301961;stroke-width:2;stroke-linecap:round;stroke-linejoin:round;stroke:rgb(0%,0%,0%);stroke-opacity:1;stroke-dasharray:4,4;stroke-miterlimit:10;\" d=\"M 66.398438 139.464844 L 66.398438 112.1875 L 103.199219 91.734375 L 140 109.832031 L 176.800781 125.066406 L 213.601562 126.230469 L 250.398438 139.058594 L 250.398438 139.464844 Z M 66.398438 139.464844 \"/>\n",
       "<path style=\"fill:none;stroke-width:1;stroke-linecap:round;stroke-linejoin:round;stroke:rgb(0%,0%,100%);stroke-opacity:1;stroke-miterlimit:10;\" d=\"M 66.398438 112.183594 L 103.199219 91.726562 L 140 111.3125 L 176.800781 126.527344 L 213.601562 127.589844 L 250.398438 135.914062 \"/>\n",
       "<path style=\"fill-rule:nonzero;fill:rgb(50.196078%,40%,10.196078%);fill-opacity:0.301961;stroke-width:2;stroke-linecap:round;stroke-linejoin:round;stroke:rgb(0%,0%,0%);stroke-opacity:1;stroke-dasharray:4,4;stroke-miterlimit:10;\" d=\"M 66.398438 139.464844 L 66.398438 112.183594 L 103.199219 91.726562 L 140 111.3125 L 176.800781 126.527344 L 213.601562 127.589844 L 250.398438 135.914062 L 250.398438 139.464844 Z M 66.398438 139.464844 \"/>\n",
       "<path style=\"fill:none;stroke-width:1;stroke-linecap:round;stroke-linejoin:round;stroke:rgb(0%,0%,100%);stroke-opacity:1;stroke-miterlimit:10;\" d=\"M 66.398438 112.1875 L 103.199219 91.730469 L 140 109.828125 L 176.800781 126.515625 L 213.601562 127.589844 L 250.398438 139.261719 \"/>\n",
       "<path style=\"fill-rule:nonzero;fill:rgb(50.196078%,40%,10.196078%);fill-opacity:0.301961;stroke-width:2;stroke-linecap:round;stroke-linejoin:round;stroke:rgb(0%,0%,0%);stroke-opacity:1;stroke-dasharray:4,4;stroke-miterlimit:10;\" d=\"M 66.398438 139.464844 L 66.398438 112.1875 L 103.199219 91.730469 L 140 109.828125 L 176.800781 126.515625 L 213.601562 127.589844 L 250.398438 139.261719 L 250.398438 139.464844 Z M 66.398438 139.464844 \"/>\n",
       "<path style=\"fill:none;stroke-width:1;stroke-linecap:round;stroke-linejoin:round;stroke:rgb(0%,0%,100%);stroke-opacity:1;stroke-miterlimit:10;\" d=\"M 66.398438 112.195312 L 103.199219 103.730469 L 140 96.589844 L 176.800781 96.417969 L 213.601562 100.210938 L 250.398438 127.699219 \"/>\n",
       "<path style=\"fill-rule:nonzero;fill:rgb(50.196078%,40%,10.196078%);fill-opacity:0.301961;stroke-width:2;stroke-linecap:round;stroke-linejoin:round;stroke:rgb(0%,0%,0%);stroke-opacity:1;stroke-dasharray:4,4;stroke-miterlimit:10;\" d=\"M 66.398438 139.464844 L 66.398438 112.195312 L 103.199219 103.730469 L 140 96.589844 L 176.800781 96.417969 L 213.601562 100.210938 L 250.398438 127.699219 L 250.398438 139.464844 Z M 66.398438 139.464844 \"/>\n",
       "<path style=\"fill:none;stroke-width:1;stroke-linecap:round;stroke-linejoin:round;stroke:rgb(0%,0%,100%);stroke-opacity:1;stroke-miterlimit:10;\" d=\"M 66.398438 112.191406 L 103.199219 103.777344 L 140 105.625 L 176.800781 96.589844 L 213.601562 100.019531 L 250.398438 127.707031 \"/>\n",
       "<path style=\"fill-rule:nonzero;fill:rgb(50.196078%,40%,10.196078%);fill-opacity:0.301961;stroke-width:2;stroke-linecap:round;stroke-linejoin:round;stroke:rgb(0%,0%,0%);stroke-opacity:1;stroke-dasharray:4,4;stroke-miterlimit:10;\" d=\"M 66.398438 139.464844 L 66.398438 112.191406 L 103.199219 103.777344 L 140 105.625 L 176.800781 96.589844 L 213.601562 100.019531 L 250.398438 127.707031 L 250.398438 139.464844 Z M 66.398438 139.464844 \"/>\n",
       "<path style=\"fill:none;stroke-width:1;stroke-linecap:round;stroke-linejoin:round;stroke:rgb(0%,0%,100%);stroke-opacity:1;stroke-miterlimit:10;\" d=\"M 66.398438 112.191406 L 103.199219 102.503906 L 140 133.25 L 176.800781 126.515625 L 213.601562 127.578125 L 250.398438 139.257812 \"/>\n",
       "<path style=\"fill-rule:nonzero;fill:rgb(50.196078%,40%,10.196078%);fill-opacity:0.301961;stroke-width:2;stroke-linecap:round;stroke-linejoin:round;stroke:rgb(0%,0%,0%);stroke-opacity:1;stroke-dasharray:4,4;stroke-miterlimit:10;\" d=\"M 66.398438 139.464844 L 66.398438 112.191406 L 103.199219 102.503906 L 140 133.25 L 176.800781 126.515625 L 213.601562 127.578125 L 250.398438 139.257812 L 250.398438 139.464844 Z M 66.398438 139.464844 \"/>\n",
       "<path style=\"fill:none;stroke-width:1;stroke-linecap:round;stroke-linejoin:round;stroke:rgb(0%,0%,100%);stroke-opacity:1;stroke-miterlimit:10;\" d=\"M 66.398438 112.1875 L 103.199219 91.738281 L 140 101.589844 L 176.800781 126.515625 L 213.601562 127.589844 L 250.398438 139.054688 \"/>\n",
       "<path style=\"fill-rule:nonzero;fill:rgb(50.196078%,40%,10.196078%);fill-opacity:0.301961;stroke-width:2;stroke-linecap:round;stroke-linejoin:round;stroke:rgb(0%,0%,0%);stroke-opacity:1;stroke-dasharray:4,4;stroke-miterlimit:10;\" d=\"M 66.398438 139.464844 L 66.398438 112.1875 L 103.199219 91.738281 L 140 101.589844 L 176.800781 126.515625 L 213.601562 127.589844 L 250.398438 139.054688 L 250.398438 139.464844 Z M 66.398438 139.464844 \"/>\n",
       "<path style=\"fill:none;stroke-width:1;stroke-linecap:round;stroke-linejoin:round;stroke:rgb(0%,0%,100%);stroke-opacity:1;stroke-miterlimit:10;\" d=\"M 66.398438 112.1875 L 103.199219 91.726562 L 140 111.304688 L 176.800781 109.800781 L 213.601562 138.113281 L 250.398438 135.917969 \"/>\n",
       "<path style=\"fill-rule:nonzero;fill:rgb(50.196078%,40%,10.196078%);fill-opacity:0.301961;stroke-width:2;stroke-linecap:round;stroke-linejoin:round;stroke:rgb(0%,0%,0%);stroke-opacity:1;stroke-dasharray:4,4;stroke-miterlimit:10;\" d=\"M 66.398438 139.464844 L 66.398438 112.1875 L 103.199219 91.726562 L 140 111.304688 L 176.800781 109.800781 L 213.601562 138.113281 L 250.398438 135.917969 L 250.398438 139.464844 Z M 66.398438 139.464844 \"/>\n",
       "<path style=\"fill:none;stroke-width:1;stroke-linecap:round;stroke-linejoin:round;stroke:rgb(0%,0%,100%);stroke-opacity:1;stroke-miterlimit:10;\" d=\"M 66.398438 112.1875 L 103.199219 91.734375 L 140 82.199219 L 176.800781 126.507812 L 213.601562 138.777344 L 250.398438 139.257812 \"/>\n",
       "<path style=\"fill-rule:nonzero;fill:rgb(50.196078%,40%,10.196078%);fill-opacity:0.301961;stroke-width:2;stroke-linecap:round;stroke-linejoin:round;stroke:rgb(0%,0%,0%);stroke-opacity:1;stroke-dasharray:4,4;stroke-miterlimit:10;\" d=\"M 66.398438 139.464844 L 66.398438 112.1875 L 103.199219 91.734375 L 140 82.199219 L 176.800781 126.507812 L 213.601562 138.777344 L 250.398438 139.257812 L 250.398438 139.464844 Z M 66.398438 139.464844 \"/>\n",
       "</g>\n",
       "</svg>\n"
      ]
     },
     "metadata": {
      "image/svg+xml": {
       "isolated": true
      }
     },
     "output_type": "display_data"
    }
   ],
   "source": [
    "plot(aggregatedValues, xlim=c(50, 300), ylim=c(0, 0.3))\n",
    "polygon(c(50,aggregatedValues[,1],300),c(0,aggregatedValues[,2],0), col=\"lightblue\", lty = 2, lwd = 2, border = \"blue\")\n",
    "for(i in 1:nrow(mySettingsUnique)){\n",
    "    lines(ordSet[[i]], type=\"l\", col=\"blue\")\t\n",
    "    polygon(c(50,t(ordSet[[i]][1]),300),c(0,t(ordSet[[i]][2]),0) , col=rgb(.5,.4,.1,.30), lty = 2, lwd = 2, border = \"black\")\n",
    "}\n",
    "#graphics.off()"
   ]
  },
  {
   "cell_type": "code",
   "execution_count": null,
   "metadata": {},
   "outputs": [],
   "source": []
  }
 ],
 "metadata": {
  "kernelspec": {
   "display_name": "R",
   "language": "R",
   "name": "r"
  },
  "language_info": {
   "codemirror_mode": "r",
   "file_extension": ".r",
   "mimetype": "text/x-r-source",
   "name": "R",
   "pygments_lexer": "r",
   "version": "3.4.1"
  }
 },
 "nbformat": 4,
 "nbformat_minor": 2
}
